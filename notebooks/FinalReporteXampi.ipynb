{
 "cells": [
  {
   "cell_type": "code",
   "execution_count": 5,
   "metadata": {
    "id": "1Nu8fd2IYNGc"
   },
   "outputs": [],
   "source": [
    "import numpy as np\n",
    "from sklearn.tree import DecisionTreeRegressor\n",
    "from sklearn.model_selection import train_test_split\n",
    "from sklearn.tree import export_graphviz\n",
    "from sklearn.metrics import mean_squared_error\n",
    "import graphviz\n",
    "import matplotlib.pyplot as plt\n",
    "from matplotlib.colors import ListedColormap"
   ]
  },
  {
   "cell_type": "code",
   "execution_count": 6,
   "metadata": {},
   "outputs": [
    {
     "ename": "AttributeError",
     "evalue": "'str' object has no attribute 'get'",
     "output_type": "error",
     "traceback": [
      "\u001b[1;31m---------------------------------------------------------------------------\u001b[0m",
      "\u001b[1;31mAttributeError\u001b[0m                            Traceback (most recent call last)",
      "Cell \u001b[1;32mIn[6], line 9\u001b[0m\n\u001b[0;32m      7\u001b[0m \u001b[38;5;66;03m# Assuming data is a list of dictionaries\u001b[39;00m\n\u001b[0;32m      8\u001b[0m \u001b[38;5;28;01mfor\u001b[39;00m item \u001b[38;5;129;01min\u001b[39;00m data:\n\u001b[1;32m----> 9\u001b[0m     item[\u001b[38;5;124m\"\u001b[39m\u001b[38;5;124mvalue\u001b[39m\u001b[38;5;124m\"\u001b[39m] \u001b[38;5;241m=\u001b[39m item\u001b[38;5;241m.\u001b[39mget(\u001b[38;5;124m\"\u001b[39m\u001b[38;5;124mvalue\u001b[39m\u001b[38;5;124m\"\u001b[39m, \u001b[38;5;241m0\u001b[39m)\n\u001b[0;32m     11\u001b[0m df \u001b[38;5;241m=\u001b[39m pd\u001b[38;5;241m.\u001b[39mDataFrame(data)\n",
      "\u001b[1;31mAttributeError\u001b[0m: 'str' object has no attribute 'get'"
     ]
    }
   ],
   "source": [
    "import json\n",
    "import pandas as pd\n",
    "\n",
    "with open(\"../data/external/Linde H25.json\", \"r\") as f:\n",
    "    data = json.load(f)\n",
    "\n",
    "# Assuming data is a list of dictionaries\n",
    "for item in data:\n",
    "    item[\"value\"] = item.get(\"value\", 0)\n",
    "\n",
    "df = pd.DataFrame(data)\n"
   ]
  },
  {
   "cell_type": "code",
   "execution_count": 9,
   "metadata": {
    "colab": {
     "base_uri": "https://localhost:8080/",
     "height": 105
    },
    "id": "6TmBseDpUeCK",
    "outputId": "c192b9bb-90bd-4308-e37f-2abf10e3c805"
   },
   "outputs": [
    {
     "name": "stderr",
     "output_type": "stream",
     "text": [
      "Downloading...\n",
      "From: https://drive.google.com/uc?id=1FCWnn1mwB-4pFywbJZJyNWqSmSLYXGMx\n",
      "To: C:\\Users\\Flor\\Documents\\GIT\\Consumo_Combustible\\notebooks\\Linde H25.json\n",
      "100%|██████████| 20.0M/20.0M [00:00<00:00, 34.7MB/s]\n"
     ]
    },
    {
     "data": {
      "text/plain": [
       "'Linde H25.json'"
      ]
     },
     "execution_count": 9,
     "metadata": {},
     "output_type": "execute_result"
    }
   ],
   "source": [
    "import gdown\n",
    "url= 'https://drive.google.com/file/d/1FCWnn1mwB-4pFywbJZJyNWqSmSLYXGMx/view?usp=drive_link'\n",
    "output= 'Linde H25.json'\n",
    "gdown.download(url, output, fuzzy=True)"
   ]
  },
  {
   "cell_type": "markdown",
   "metadata": {
    "id": "jAQEcF7KZm5x"
   },
   "source": []
  },
  {
   "cell_type": "code",
   "execution_count": 10,
   "metadata": {
    "colab": {
     "base_uri": "https://localhost:8080/"
    },
    "id": "fRBogRtMU8aY",
    "outputId": "91de46a4-5f3c-4f44-bbee-c152bece3017"
   },
   "outputs": [
    {
     "name": "stdout",
     "output_type": "stream",
     "text": [
      "   object                      from                        to mins  velmax  \\\n",
      "0    4087  2024-06-08T03:00:00.000Z  2024-06-16T01:30:52.461Z    0       0   \n",
      "\n",
      "  type dvcType    _v objType                              hash  kmRec  \\\n",
      "0  can     BCE  next      38  62007387fb7bc8a33c10ef25274d6b31      0   \n",
      "\n",
      "   engOnSec  motionTime  canEngOnSec  \n",
      "0    311454       57308       403200  \n",
      "<class 'pandas.core.frame.DataFrame'>\n",
      "RangeIndex: 1 entries, 0 to 0\n",
      "Data columns (total 14 columns):\n",
      " #   Column       Non-Null Count  Dtype \n",
      "---  ------       --------------  ----- \n",
      " 0   object       1 non-null      int64 \n",
      " 1   from         1 non-null      object\n",
      " 2   to           1 non-null      object\n",
      " 3   mins         1 non-null      object\n",
      " 4   velmax       1 non-null      int64 \n",
      " 5   type         1 non-null      object\n",
      " 6   dvcType      1 non-null      object\n",
      " 7   _v           1 non-null      object\n",
      " 8   objType      1 non-null      object\n",
      " 9   hash         1 non-null      object\n",
      " 10  kmRec        1 non-null      int64 \n",
      " 11  engOnSec     1 non-null      int64 \n",
      " 12  motionTime   1 non-null      int64 \n",
      " 13  canEngOnSec  1 non-null      int64 \n",
      "dtypes: int64(6), object(8)\n",
      "memory usage: 244.0+ bytes\n",
      "None\n"
     ]
    }
   ],
   "source": [
    "import pandas as pd\n",
    "import json\n",
    "\n",
    "# Load the JSON file\n",
    "with open('Linde H25.json', 'r') as f:\n",
    "    data = json.load(f)\n",
    "\n",
    "# Normalize the 'gral' section of the data (adjust 'gral' if it's a different key)\n",
    "df_gral = pd.json_normalize(data['gral'])\n",
    "\n",
    "# If there are other sections in your JSON you want as DataFrames, normalize them similarly.\n",
    "# For example, if you have a section called 'details':\n",
    "# df_details = pd.json_normalize(data['details'])\n",
    "\n",
    "# Now you have DataFrames with consistent column lengths\n",
    "print(df_gral.head())\n",
    "print(df_gral.info())"
   ]
  },
  {
   "cell_type": "code",
   "execution_count": 11,
   "metadata": {
    "colab": {
     "base_uri": "https://localhost:8080/"
    },
    "id": "xDVKG2_VZ5-P",
    "outputId": "b79534f0-549c-43d5-fbc3-af5029701779"
   },
   "outputs": [
    {
     "name": "stdout",
     "output_type": "stream",
     "text": [
      "<class 'pandas.core.frame.DataFrame'>\n",
      "RangeIndex: 1528 entries, 0 to 1527\n",
      "Data columns (total 22 columns):\n",
      " #   Column          Non-Null Count  Dtype  \n",
      "---  ------          --------------  -----  \n",
      " 0   type            1528 non-null   object \n",
      " 1   start           1528 non-null   int64  \n",
      " 2   end             1528 non-null   int64  \n",
      " 3   events          1115 non-null   object \n",
      " 4   from.lat        761 non-null    float64\n",
      " 5   from.lng        761 non-null    float64\n",
      " 6   to.lat          767 non-null    float64\n",
      " 7   to.lng          767 non-null    float64\n",
      " 8   lat             601 non-null    float64\n",
      " 9   lng             601 non-null    float64\n",
      " 10  idleTime        601 non-null    float64\n",
      " 11  fuelEnd         538 non-null    object \n",
      " 12  status          601 non-null    object \n",
      " 13  dir             601 non-null    object \n",
      " 14  kmRec           413 non-null    float64\n",
      " 15  engOnSec        413 non-null    float64\n",
      " 16  motionTime      413 non-null    float64\n",
      " 17  canEngOnSec     413 non-null    float64\n",
      " 18  rows            413 non-null    object \n",
      " 19  maxSpeed.speed  413 non-null    float64\n",
      " 20  maxSpeed.date   413 non-null    float64\n",
      " 21  fuelIni         505 non-null    object \n",
      "dtypes: float64(13), int64(2), object(7)\n",
      "memory usage: 262.8+ KB\n"
     ]
    }
   ],
   "source": [
    "# Normalize the 'trips' section of the data\n",
    "df_trips = pd.json_normalize(data['trips'])\n",
    "df_trips.head()\n",
    "df_trips.info()\n",
    "\n"
   ]
  },
  {
   "cell_type": "code",
   "execution_count": 12,
   "metadata": {
    "colab": {
     "base_uri": "https://localhost:8080/",
     "height": 774
    },
    "id": "FzrNTo8dbOme",
    "outputId": "172e99ab-e562-4b49-e2d8-feb80733b9da"
   },
   "outputs": [
    {
     "data": {
      "text/plain": [
       "type                 0\n",
       "start                0\n",
       "end                  0\n",
       "events             413\n",
       "from.lat           767\n",
       "from.lng           767\n",
       "to.lat             761\n",
       "to.lng             761\n",
       "lat                927\n",
       "lng                927\n",
       "idleTime           927\n",
       "fuelEnd            990\n",
       "status             927\n",
       "dir                927\n",
       "kmRec             1115\n",
       "engOnSec          1115\n",
       "motionTime        1115\n",
       "canEngOnSec       1115\n",
       "rows              1115\n",
       "maxSpeed.speed    1115\n",
       "maxSpeed.date     1115\n",
       "fuelIni           1023\n",
       "dtype: int64"
      ]
     },
     "execution_count": 12,
     "metadata": {},
     "output_type": "execute_result"
    }
   ],
   "source": [
    "df_trips.isnull().sum()"
   ]
  },
  {
   "cell_type": "code",
   "execution_count": 13,
   "metadata": {
    "colab": {
     "base_uri": "https://localhost:8080/",
     "height": 410
    },
    "id": "PpxNaBntVBGo",
    "outputId": "8b5381c0-d785-4c08-f5c5-8dc7c28c7253"
   },
   "outputs": [
    {
     "ename": "ModuleNotFoundError",
     "evalue": "No module named 'polars'",
     "output_type": "error",
     "traceback": [
      "\u001b[1;31m---------------------------------------------------------------------------\u001b[0m",
      "\u001b[1;31mModuleNotFoundError\u001b[0m                       Traceback (most recent call last)",
      "Cell \u001b[1;32mIn[13], line 1\u001b[0m\n\u001b[1;32m----> 1\u001b[0m \u001b[38;5;28;01mimport\u001b[39;00m \u001b[38;5;21;01mpolars\u001b[39;00m \u001b[38;5;28;01mas\u001b[39;00m \u001b[38;5;21;01mpl\u001b[39;00m\n\u001b[0;32m      2\u001b[0m df \u001b[38;5;241m=\u001b[39m pl\u001b[38;5;241m.\u001b[39mread_json(\u001b[38;5;124m'\u001b[39m\u001b[38;5;124mLinde H25.json\u001b[39m\u001b[38;5;124m'\u001b[39m)\n\u001b[0;32m      3\u001b[0m df\u001b[38;5;241m.\u001b[39mhead()\n",
      "\u001b[1;31mModuleNotFoundError\u001b[0m: No module named 'polars'"
     ]
    }
   ],
   "source": [
    "import polars as pl\n",
    "df = pl.read_json('Linde H25.json')\n",
    "df.head()"
   ]
  },
  {
   "cell_type": "code",
   "execution_count": 14,
   "metadata": {
    "colab": {
     "base_uri": "https://localhost:8080/",
     "height": 81
    },
    "id": "WICx8RuJVHeV",
    "outputId": "94f7f455-114c-46f9-9692-e6ba45d8ffe1"
   },
   "outputs": [
    {
     "data": {
      "text/html": [
       "<div>\n",
       "<style scoped>\n",
       "    .dataframe tbody tr th:only-of-type {\n",
       "        vertical-align: middle;\n",
       "    }\n",
       "\n",
       "    .dataframe tbody tr th {\n",
       "        vertical-align: top;\n",
       "    }\n",
       "\n",
       "    .dataframe thead th {\n",
       "        text-align: right;\n",
       "    }\n",
       "</style>\n",
       "<table border=\"1\" class=\"dataframe\">\n",
       "  <thead>\n",
       "    <tr style=\"text-align: right;\">\n",
       "      <th></th>\n",
       "      <th>object</th>\n",
       "      <th>from</th>\n",
       "      <th>to</th>\n",
       "      <th>mins</th>\n",
       "      <th>velmax</th>\n",
       "      <th>type</th>\n",
       "      <th>dvcType</th>\n",
       "      <th>_v</th>\n",
       "      <th>objType</th>\n",
       "      <th>hash</th>\n",
       "      <th>kmRec</th>\n",
       "      <th>engOnSec</th>\n",
       "      <th>motionTime</th>\n",
       "      <th>canEngOnSec</th>\n",
       "    </tr>\n",
       "  </thead>\n",
       "  <tbody>\n",
       "    <tr>\n",
       "      <th>0</th>\n",
       "      <td>4087</td>\n",
       "      <td>2024-06-08T03:00:00.000Z</td>\n",
       "      <td>2024-06-16T01:30:52.461Z</td>\n",
       "      <td>0</td>\n",
       "      <td>0</td>\n",
       "      <td>can</td>\n",
       "      <td>BCE</td>\n",
       "      <td>next</td>\n",
       "      <td>38</td>\n",
       "      <td>62007387fb7bc8a33c10ef25274d6b31</td>\n",
       "      <td>0</td>\n",
       "      <td>311454</td>\n",
       "      <td>57308</td>\n",
       "      <td>403200</td>\n",
       "    </tr>\n",
       "  </tbody>\n",
       "</table>\n",
       "</div>"
      ],
      "text/plain": [
       "   object                      from                        to mins  velmax  \\\n",
       "0    4087  2024-06-08T03:00:00.000Z  2024-06-16T01:30:52.461Z    0       0   \n",
       "\n",
       "  type dvcType    _v objType                              hash  kmRec  \\\n",
       "0  can     BCE  next      38  62007387fb7bc8a33c10ef25274d6b31      0   \n",
       "\n",
       "   engOnSec  motionTime  canEngOnSec  \n",
       "0    311454       57308       403200  "
      ]
     },
     "execution_count": 14,
     "metadata": {},
     "output_type": "execute_result"
    }
   ],
   "source": [
    "import pandas as pd\n",
    "\n",
    "# Assuming 'data' is the dictionary you want to convert\n",
    "# If 'data' is nested, you may need to extract the relevant part for DataFrame creation\n",
    "relevant_data = data['gral']  # Example: Extract data from the 'gral' key\n",
    "\n",
    "# Convert the relevant part of the dictionary to a DataFrame\n",
    "df_pd = pd.DataFrame(relevant_data, index=[0])  # Create a single-row DataFrame\n",
    "\n",
    "# Convert the DataFrame to a CSV file\n",
    "df_pd.to_csv('data.csv', index=False)  # Set index=False to exclude index column\n",
    "df_pd.head()"
   ]
  },
  {
   "cell_type": "code",
   "execution_count": 15,
   "metadata": {
    "colab": {
     "base_uri": "https://localhost:8080/",
     "height": 206
    },
    "id": "401DKxDuWVyp",
    "outputId": "689d8754-788c-4d6a-c43d-c2f608871d73"
   },
   "outputs": [
    {
     "data": {
      "text/html": [
       "<div>\n",
       "<style scoped>\n",
       "    .dataframe tbody tr th:only-of-type {\n",
       "        vertical-align: middle;\n",
       "    }\n",
       "\n",
       "    .dataframe tbody tr th {\n",
       "        vertical-align: top;\n",
       "    }\n",
       "\n",
       "    .dataframe thead th {\n",
       "        text-align: right;\n",
       "    }\n",
       "</style>\n",
       "<table border=\"1\" class=\"dataframe\">\n",
       "  <thead>\n",
       "    <tr style=\"text-align: right;\">\n",
       "      <th></th>\n",
       "      <th>date</th>\n",
       "      <th>bat</th>\n",
       "      <th>km</th>\n",
       "      <th>engOn</th>\n",
       "      <th>evDesc</th>\n",
       "      <th>dir</th>\n",
       "      <th>lat</th>\n",
       "      <th>lng</th>\n",
       "      <th>speed</th>\n",
       "      <th>heading</th>\n",
       "      <th>wheel_speed</th>\n",
       "      <th>can_fls</th>\n",
       "      <th>can_taho</th>\n",
       "      <th>can_engine_hrs</th>\n",
       "      <th>eng_temp</th>\n",
       "    </tr>\n",
       "  </thead>\n",
       "  <tbody>\n",
       "    <tr>\n",
       "      <th>0</th>\n",
       "      <td>1717815696</td>\n",
       "      <td>12.780</td>\n",
       "      <td>0</td>\n",
       "      <td>False</td>\n",
       "      <td></td>\n",
       "      <td>-</td>\n",
       "      <td>NaN</td>\n",
       "      <td>NaN</td>\n",
       "      <td>NaN</td>\n",
       "      <td>NaN</td>\n",
       "      <td>NaN</td>\n",
       "      <td>NaN</td>\n",
       "      <td>NaN</td>\n",
       "      <td>NaN</td>\n",
       "      <td>NaN</td>\n",
       "    </tr>\n",
       "    <tr>\n",
       "      <th>1</th>\n",
       "      <td>1717815818</td>\n",
       "      <td>12.718</td>\n",
       "      <td>0</td>\n",
       "      <td>False</td>\n",
       "      <td></td>\n",
       "      <td>Valentin Torra 5001-5400 A 46 Mts, Parana, Ent...</td>\n",
       "      <td>-31.7701</td>\n",
       "      <td>-60.4517</td>\n",
       "      <td>0.0</td>\n",
       "      <td>214.0</td>\n",
       "      <td>NaN</td>\n",
       "      <td>NaN</td>\n",
       "      <td>NaN</td>\n",
       "      <td>NaN</td>\n",
       "      <td>NaN</td>\n",
       "    </tr>\n",
       "    <tr>\n",
       "      <th>2</th>\n",
       "      <td>1717815938</td>\n",
       "      <td>12.718</td>\n",
       "      <td>0</td>\n",
       "      <td>False</td>\n",
       "      <td></td>\n",
       "      <td>Valentin Torra 5001-5400 A 46 Mts, Parana, Ent...</td>\n",
       "      <td>-31.7701</td>\n",
       "      <td>-60.4517</td>\n",
       "      <td>0.0</td>\n",
       "      <td>214.0</td>\n",
       "      <td>NaN</td>\n",
       "      <td>NaN</td>\n",
       "      <td>NaN</td>\n",
       "      <td>NaN</td>\n",
       "      <td>NaN</td>\n",
       "    </tr>\n",
       "    <tr>\n",
       "      <th>3</th>\n",
       "      <td>1717816056</td>\n",
       "      <td>12.709</td>\n",
       "      <td>0</td>\n",
       "      <td>False</td>\n",
       "      <td></td>\n",
       "      <td>Valentin Torra 5001-5400 A 46 Mts, Parana, Ent...</td>\n",
       "      <td>-31.7701</td>\n",
       "      <td>-60.4517</td>\n",
       "      <td>0.0</td>\n",
       "      <td>214.0</td>\n",
       "      <td>NaN</td>\n",
       "      <td>NaN</td>\n",
       "      <td>NaN</td>\n",
       "      <td>NaN</td>\n",
       "      <td>NaN</td>\n",
       "    </tr>\n",
       "    <tr>\n",
       "      <th>4</th>\n",
       "      <td>1717816072</td>\n",
       "      <td>12.514</td>\n",
       "      <td>0</td>\n",
       "      <td>False</td>\n",
       "      <td>Contacto</td>\n",
       "      <td>Valentin Torra 5001-5400 A 46 Mts, Parana, Ent...</td>\n",
       "      <td>-31.7701</td>\n",
       "      <td>-60.4517</td>\n",
       "      <td>0.0</td>\n",
       "      <td>214.0</td>\n",
       "      <td>NaN</td>\n",
       "      <td>NaN</td>\n",
       "      <td>NaN</td>\n",
       "      <td>NaN</td>\n",
       "      <td>NaN</td>\n",
       "    </tr>\n",
       "  </tbody>\n",
       "</table>\n",
       "</div>"
      ],
      "text/plain": [
       "         date     bat  km  engOn    evDesc  \\\n",
       "0  1717815696  12.780   0  False             \n",
       "1  1717815818  12.718   0  False             \n",
       "2  1717815938  12.718   0  False             \n",
       "3  1717816056  12.709   0  False             \n",
       "4  1717816072  12.514   0  False  Contacto   \n",
       "\n",
       "                                                 dir      lat      lng  speed  \\\n",
       "0                                                  -      NaN      NaN    NaN   \n",
       "1  Valentin Torra 5001-5400 A 46 Mts, Parana, Ent... -31.7701 -60.4517    0.0   \n",
       "2  Valentin Torra 5001-5400 A 46 Mts, Parana, Ent... -31.7701 -60.4517    0.0   \n",
       "3  Valentin Torra 5001-5400 A 46 Mts, Parana, Ent... -31.7701 -60.4517    0.0   \n",
       "4  Valentin Torra 5001-5400 A 46 Mts, Parana, Ent... -31.7701 -60.4517    0.0   \n",
       "\n",
       "   heading  wheel_speed  can_fls  can_taho  can_engine_hrs  eng_temp  \n",
       "0      NaN          NaN      NaN       NaN             NaN       NaN  \n",
       "1    214.0          NaN      NaN       NaN             NaN       NaN  \n",
       "2    214.0          NaN      NaN       NaN             NaN       NaN  \n",
       "3    214.0          NaN      NaN       NaN             NaN       NaN  \n",
       "4    214.0          NaN      NaN       NaN             NaN       NaN  "
      ]
     },
     "execution_count": 15,
     "metadata": {},
     "output_type": "execute_result"
    }
   ],
   "source": [
    "import pandas as pd\n",
    "\n",
    "# Assuming 'data' is the dictionary you want to convert\n",
    "# If 'data' is nested, you may need to extract the relevant part for DataFrame creation\n",
    "relevant_datad = data['details']  # Example: Extract data from the 'gral' key\n",
    "\n",
    "# Convert the relevant part of the dictionary to a DataFrame\n",
    "df_pd = pd.DataFrame(relevant_datad)  # Create a single-row DataFrame\n",
    "\n",
    "# Convert the DataFrame to a CSV file\n",
    "df_pd.to_csv('data.csv', index=False)  # Set index=False to exclude index column\n",
    "df_pd.head()"
   ]
  },
  {
   "cell_type": "code",
   "execution_count": 16,
   "metadata": {
    "colab": {
     "base_uri": "https://localhost:8080/"
    },
    "id": "6BHmK8pEXuag",
    "outputId": "8c407287-cbbc-4213-e829-91c1f8528265"
   },
   "outputs": [
    {
     "name": "stdout",
     "output_type": "stream",
     "text": [
      "<class 'pandas.core.frame.DataFrame'>\n",
      "RangeIndex: 25244 entries, 0 to 25243\n",
      "Data columns (total 15 columns):\n",
      " #   Column          Non-Null Count  Dtype  \n",
      "---  ------          --------------  -----  \n",
      " 0   date            25244 non-null  int64  \n",
      " 1   bat             25244 non-null  float64\n",
      " 2   km              25244 non-null  int64  \n",
      " 3   engOn           25244 non-null  bool   \n",
      " 4   evDesc          25244 non-null  object \n",
      " 5   dir             25244 non-null  object \n",
      " 6   lat             22890 non-null  float64\n",
      " 7   lng             22890 non-null  float64\n",
      " 8   speed           22890 non-null  float64\n",
      " 9   heading         22890 non-null  float64\n",
      " 10  wheel_speed     22396 non-null  float64\n",
      " 11  can_fls         22396 non-null  float64\n",
      " 12  can_taho        22396 non-null  float64\n",
      " 13  can_engine_hrs  22396 non-null  float64\n",
      " 14  eng_temp        22396 non-null  float64\n",
      "dtypes: bool(1), float64(10), int64(2), object(2)\n",
      "memory usage: 2.7+ MB\n"
     ]
    }
   ],
   "source": [
    "df_pd.info()"
   ]
  },
  {
   "cell_type": "code",
   "execution_count": 17,
   "metadata": {
    "colab": {
     "base_uri": "https://localhost:8080/",
     "height": 300
    },
    "id": "r8RyrzYLX3Ca",
    "outputId": "8742760d-f3bd-45d4-9482-81e7d6522091"
   },
   "outputs": [
    {
     "data": {
      "text/html": [
       "<div>\n",
       "<style scoped>\n",
       "    .dataframe tbody tr th:only-of-type {\n",
       "        vertical-align: middle;\n",
       "    }\n",
       "\n",
       "    .dataframe tbody tr th {\n",
       "        vertical-align: top;\n",
       "    }\n",
       "\n",
       "    .dataframe thead th {\n",
       "        text-align: right;\n",
       "    }\n",
       "</style>\n",
       "<table border=\"1\" class=\"dataframe\">\n",
       "  <thead>\n",
       "    <tr style=\"text-align: right;\">\n",
       "      <th></th>\n",
       "      <th>date</th>\n",
       "      <th>bat</th>\n",
       "      <th>km</th>\n",
       "      <th>lat</th>\n",
       "      <th>lng</th>\n",
       "      <th>speed</th>\n",
       "      <th>heading</th>\n",
       "      <th>wheel_speed</th>\n",
       "      <th>can_fls</th>\n",
       "      <th>can_taho</th>\n",
       "      <th>can_engine_hrs</th>\n",
       "      <th>eng_temp</th>\n",
       "    </tr>\n",
       "  </thead>\n",
       "  <tbody>\n",
       "    <tr>\n",
       "      <th>count</th>\n",
       "      <td>2.524400e+04</td>\n",
       "      <td>25244.000000</td>\n",
       "      <td>25244.0</td>\n",
       "      <td>22890.000000</td>\n",
       "      <td>22890.000000</td>\n",
       "      <td>22890.000000</td>\n",
       "      <td>22890.000000</td>\n",
       "      <td>22396.000000</td>\n",
       "      <td>22396.000000</td>\n",
       "      <td>22396.000000</td>\n",
       "      <td>22396.000000</td>\n",
       "      <td>22396.0</td>\n",
       "    </tr>\n",
       "    <tr>\n",
       "      <th>mean</th>\n",
       "      <td>1.718181e+09</td>\n",
       "      <td>13.292831</td>\n",
       "      <td>0.0</td>\n",
       "      <td>-31.769626</td>\n",
       "      <td>-60.450972</td>\n",
       "      <td>2.077195</td>\n",
       "      <td>149.933071</td>\n",
       "      <td>3.569566</td>\n",
       "      <td>76.123683</td>\n",
       "      <td>1529.173781</td>\n",
       "      <td>39972.835462</td>\n",
       "      <td>0.0</td>\n",
       "    </tr>\n",
       "    <tr>\n",
       "      <th>std</th>\n",
       "      <td>1.717023e+05</td>\n",
       "      <td>0.453605</td>\n",
       "      <td>0.0</td>\n",
       "      <td>0.000296</td>\n",
       "      <td>0.000392</td>\n",
       "      <td>3.165596</td>\n",
       "      <td>112.613464</td>\n",
       "      <td>3.917767</td>\n",
       "      <td>17.768831</td>\n",
       "      <td>291.716335</td>\n",
       "      <td>30.699371</td>\n",
       "      <td>0.0</td>\n",
       "    </tr>\n",
       "    <tr>\n",
       "      <th>min</th>\n",
       "      <td>1.717816e+09</td>\n",
       "      <td>8.163000</td>\n",
       "      <td>0.0</td>\n",
       "      <td>-31.771200</td>\n",
       "      <td>-60.452300</td>\n",
       "      <td>0.000000</td>\n",
       "      <td>0.000000</td>\n",
       "      <td>0.000000</td>\n",
       "      <td>0.000000</td>\n",
       "      <td>45.000000</td>\n",
       "      <td>39915.000000</td>\n",
       "      <td>0.0</td>\n",
       "    </tr>\n",
       "    <tr>\n",
       "      <th>25%</th>\n",
       "      <td>1.718056e+09</td>\n",
       "      <td>13.073000</td>\n",
       "      <td>0.0</td>\n",
       "      <td>-31.769800</td>\n",
       "      <td>-60.451000</td>\n",
       "      <td>0.000000</td>\n",
       "      <td>38.000000</td>\n",
       "      <td>0.000000</td>\n",
       "      <td>67.000000</td>\n",
       "      <td>1313.750000</td>\n",
       "      <td>39947.000000</td>\n",
       "      <td>0.0</td>\n",
       "    </tr>\n",
       "    <tr>\n",
       "      <th>50%</th>\n",
       "      <td>1.718193e+09</td>\n",
       "      <td>13.321000</td>\n",
       "      <td>0.0</td>\n",
       "      <td>-31.769600</td>\n",
       "      <td>-60.451000</td>\n",
       "      <td>0.000000</td>\n",
       "      <td>146.000000</td>\n",
       "      <td>1.000000</td>\n",
       "      <td>78.000000</td>\n",
       "      <td>1597.000000</td>\n",
       "      <td>39974.000000</td>\n",
       "      <td>0.0</td>\n",
       "    </tr>\n",
       "    <tr>\n",
       "      <th>75%</th>\n",
       "      <td>1.718302e+09</td>\n",
       "      <td>13.542000</td>\n",
       "      <td>0.0</td>\n",
       "      <td>-31.769400</td>\n",
       "      <td>-60.450800</td>\n",
       "      <td>4.000000</td>\n",
       "      <td>236.000000</td>\n",
       "      <td>8.000000</td>\n",
       "      <td>89.000000</td>\n",
       "      <td>1790.000000</td>\n",
       "      <td>39997.000000</td>\n",
       "      <td>0.0</td>\n",
       "    </tr>\n",
       "    <tr>\n",
       "      <th>max</th>\n",
       "      <td>1.718501e+09</td>\n",
       "      <td>14.579000</td>\n",
       "      <td>0.0</td>\n",
       "      <td>-31.768700</td>\n",
       "      <td>-60.448200</td>\n",
       "      <td>50.000000</td>\n",
       "      <td>358.000000</td>\n",
       "      <td>9.000000</td>\n",
       "      <td>100.000000</td>\n",
       "      <td>2523.000000</td>\n",
       "      <td>40027.000000</td>\n",
       "      <td>0.0</td>\n",
       "    </tr>\n",
       "  </tbody>\n",
       "</table>\n",
       "</div>"
      ],
      "text/plain": [
       "               date           bat       km           lat           lng  \\\n",
       "count  2.524400e+04  25244.000000  25244.0  22890.000000  22890.000000   \n",
       "mean   1.718181e+09     13.292831      0.0    -31.769626    -60.450972   \n",
       "std    1.717023e+05      0.453605      0.0      0.000296      0.000392   \n",
       "min    1.717816e+09      8.163000      0.0    -31.771200    -60.452300   \n",
       "25%    1.718056e+09     13.073000      0.0    -31.769800    -60.451000   \n",
       "50%    1.718193e+09     13.321000      0.0    -31.769600    -60.451000   \n",
       "75%    1.718302e+09     13.542000      0.0    -31.769400    -60.450800   \n",
       "max    1.718501e+09     14.579000      0.0    -31.768700    -60.448200   \n",
       "\n",
       "              speed       heading   wheel_speed       can_fls      can_taho  \\\n",
       "count  22890.000000  22890.000000  22396.000000  22396.000000  22396.000000   \n",
       "mean       2.077195    149.933071      3.569566     76.123683   1529.173781   \n",
       "std        3.165596    112.613464      3.917767     17.768831    291.716335   \n",
       "min        0.000000      0.000000      0.000000      0.000000     45.000000   \n",
       "25%        0.000000     38.000000      0.000000     67.000000   1313.750000   \n",
       "50%        0.000000    146.000000      1.000000     78.000000   1597.000000   \n",
       "75%        4.000000    236.000000      8.000000     89.000000   1790.000000   \n",
       "max       50.000000    358.000000      9.000000    100.000000   2523.000000   \n",
       "\n",
       "       can_engine_hrs  eng_temp  \n",
       "count    22396.000000   22396.0  \n",
       "mean     39972.835462       0.0  \n",
       "std         30.699371       0.0  \n",
       "min      39915.000000       0.0  \n",
       "25%      39947.000000       0.0  \n",
       "50%      39974.000000       0.0  \n",
       "75%      39997.000000       0.0  \n",
       "max      40027.000000       0.0  "
      ]
     },
     "execution_count": 17,
     "metadata": {},
     "output_type": "execute_result"
    }
   ],
   "source": [
    "df_pd.describe()"
   ]
  },
  {
   "cell_type": "code",
   "execution_count": 18,
   "metadata": {
    "colab": {
     "base_uri": "https://localhost:8080/",
     "height": 554
    },
    "id": "o34lGexiYFgt",
    "outputId": "e96c12aa-0735-4544-86e8-8454ca8ccc2f"
   },
   "outputs": [
    {
     "data": {
      "text/plain": [
       "date                 0\n",
       "bat                  0\n",
       "km                   0\n",
       "engOn                0\n",
       "evDesc               0\n",
       "dir                  0\n",
       "lat               2354\n",
       "lng               2354\n",
       "speed             2354\n",
       "heading           2354\n",
       "wheel_speed       2848\n",
       "can_fls           2848\n",
       "can_taho          2848\n",
       "can_engine_hrs    2848\n",
       "eng_temp          2848\n",
       "dtype: int64"
      ]
     },
     "execution_count": 18,
     "metadata": {},
     "output_type": "execute_result"
    }
   ],
   "source": [
    "df_pd.isnull().sum()\n",
    "df_pd.isna().sum()"
   ]
  },
  {
   "cell_type": "code",
   "execution_count": 19,
   "metadata": {
    "colab": {
     "base_uri": "https://localhost:8080/"
    },
    "id": "1B5Ezlh-rzc2",
    "outputId": "045c69a8-b8fc-43ec-bb95-31e5349c5b31"
   },
   "outputs": [
    {
     "name": "stdout",
     "output_type": "stream",
     "text": [
      "<class 'pandas.core.frame.DataFrame'>\n",
      "Index: 20606 entries, 5 to 24977\n",
      "Data columns (total 15 columns):\n",
      " #   Column          Non-Null Count  Dtype  \n",
      "---  ------          --------------  -----  \n",
      " 0   date            20606 non-null  int64  \n",
      " 1   bat             20606 non-null  float64\n",
      " 2   km              20606 non-null  int64  \n",
      " 3   engOn           20606 non-null  bool   \n",
      " 4   evDesc          20606 non-null  object \n",
      " 5   dir             20606 non-null  object \n",
      " 6   lat             20606 non-null  float64\n",
      " 7   lng             20606 non-null  float64\n",
      " 8   speed           20606 non-null  float64\n",
      " 9   heading         20606 non-null  float64\n",
      " 10  wheel_speed     20606 non-null  float64\n",
      " 11  can_fls         20606 non-null  float64\n",
      " 12  can_taho        20606 non-null  float64\n",
      " 13  can_engine_hrs  20606 non-null  float64\n",
      " 14  eng_temp        20606 non-null  float64\n",
      "dtypes: bool(1), float64(10), int64(2), object(2)\n",
      "memory usage: 2.4+ MB\n"
     ]
    }
   ],
   "source": [
    "df_limpio= df_pd.dropna()\n",
    "df_limpio.describe()\n",
    "df_limpio.info()"
   ]
  },
  {
   "cell_type": "code",
   "execution_count": 20,
   "metadata": {
    "colab": {
     "base_uri": "https://localhost:8080/",
     "height": 206
    },
    "id": "Wcc7ScF8r_cj",
    "outputId": "1cdb4a46-e7e1-4217-d73f-97b0bebdb563"
   },
   "outputs": [
    {
     "data": {
      "text/html": [
       "<div>\n",
       "<style scoped>\n",
       "    .dataframe tbody tr th:only-of-type {\n",
       "        vertical-align: middle;\n",
       "    }\n",
       "\n",
       "    .dataframe tbody tr th {\n",
       "        vertical-align: top;\n",
       "    }\n",
       "\n",
       "    .dataframe thead th {\n",
       "        text-align: right;\n",
       "    }\n",
       "</style>\n",
       "<table border=\"1\" class=\"dataframe\">\n",
       "  <thead>\n",
       "    <tr style=\"text-align: right;\">\n",
       "      <th></th>\n",
       "      <th>speed</th>\n",
       "      <th>wheel_speed</th>\n",
       "      <th>can_fls</th>\n",
       "      <th>can_taho</th>\n",
       "      <th>engOn</th>\n",
       "    </tr>\n",
       "  </thead>\n",
       "  <tbody>\n",
       "    <tr>\n",
       "      <th>speed</th>\n",
       "      <td>1.000000</td>\n",
       "      <td>0.443817</td>\n",
       "      <td>0.040961</td>\n",
       "      <td>0.378330</td>\n",
       "      <td>0.182932</td>\n",
       "    </tr>\n",
       "    <tr>\n",
       "      <th>wheel_speed</th>\n",
       "      <td>0.443817</td>\n",
       "      <td>1.000000</td>\n",
       "      <td>0.031258</td>\n",
       "      <td>0.690242</td>\n",
       "      <td>0.229986</td>\n",
       "    </tr>\n",
       "    <tr>\n",
       "      <th>can_fls</th>\n",
       "      <td>0.040961</td>\n",
       "      <td>0.031258</td>\n",
       "      <td>1.000000</td>\n",
       "      <td>0.048471</td>\n",
       "      <td>0.034294</td>\n",
       "    </tr>\n",
       "    <tr>\n",
       "      <th>can_taho</th>\n",
       "      <td>0.378330</td>\n",
       "      <td>0.690242</td>\n",
       "      <td>0.048471</td>\n",
       "      <td>1.000000</td>\n",
       "      <td>0.405996</td>\n",
       "    </tr>\n",
       "    <tr>\n",
       "      <th>engOn</th>\n",
       "      <td>0.182932</td>\n",
       "      <td>0.229986</td>\n",
       "      <td>0.034294</td>\n",
       "      <td>0.405996</td>\n",
       "      <td>1.000000</td>\n",
       "    </tr>\n",
       "  </tbody>\n",
       "</table>\n",
       "</div>"
      ],
      "text/plain": [
       "                speed  wheel_speed   can_fls  can_taho     engOn\n",
       "speed        1.000000     0.443817  0.040961  0.378330  0.182932\n",
       "wheel_speed  0.443817     1.000000  0.031258  0.690242  0.229986\n",
       "can_fls      0.040961     0.031258  1.000000  0.048471  0.034294\n",
       "can_taho     0.378330     0.690242  0.048471  1.000000  0.405996\n",
       "engOn        0.182932     0.229986  0.034294  0.405996  1.000000"
      ]
     },
     "execution_count": 20,
     "metadata": {},
     "output_type": "execute_result"
    }
   ],
   "source": [
    "variables_estudio = df_limpio [['speed', 'wheel_speed', 'can_fls', 'can_taho', 'engOn']]\n",
    "variables_estudio.corr()"
   ]
  },
  {
   "cell_type": "code",
   "execution_count": 21,
   "metadata": {
    "colab": {
     "base_uri": "https://localhost:8080/",
     "height": 175
    },
    "id": "qk_bOaCKtuoG",
    "outputId": "796e530f-e449-4e8d-ecab-26866258384d"
   },
   "outputs": [
    {
     "data": {
      "text/html": [
       "<div>\n",
       "<style scoped>\n",
       "    .dataframe tbody tr th:only-of-type {\n",
       "        vertical-align: middle;\n",
       "    }\n",
       "\n",
       "    .dataframe tbody tr th {\n",
       "        vertical-align: top;\n",
       "    }\n",
       "\n",
       "    .dataframe thead th {\n",
       "        text-align: right;\n",
       "    }\n",
       "</style>\n",
       "<table border=\"1\" class=\"dataframe\">\n",
       "  <thead>\n",
       "    <tr style=\"text-align: right;\">\n",
       "      <th></th>\n",
       "      <th>kmRec</th>\n",
       "      <th>motionTime</th>\n",
       "      <th>maxSpeed.speed</th>\n",
       "      <th>fuelIni</th>\n",
       "    </tr>\n",
       "  </thead>\n",
       "  <tbody>\n",
       "    <tr>\n",
       "      <th>kmRec</th>\n",
       "      <td>NaN</td>\n",
       "      <td>NaN</td>\n",
       "      <td>NaN</td>\n",
       "      <td>NaN</td>\n",
       "    </tr>\n",
       "    <tr>\n",
       "      <th>motionTime</th>\n",
       "      <td>NaN</td>\n",
       "      <td>1.000000</td>\n",
       "      <td>0.283932</td>\n",
       "      <td>NaN</td>\n",
       "    </tr>\n",
       "    <tr>\n",
       "      <th>maxSpeed.speed</th>\n",
       "      <td>NaN</td>\n",
       "      <td>0.283932</td>\n",
       "      <td>1.000000</td>\n",
       "      <td>NaN</td>\n",
       "    </tr>\n",
       "    <tr>\n",
       "      <th>fuelIni</th>\n",
       "      <td>NaN</td>\n",
       "      <td>NaN</td>\n",
       "      <td>NaN</td>\n",
       "      <td>1.0</td>\n",
       "    </tr>\n",
       "  </tbody>\n",
       "</table>\n",
       "</div>"
      ],
      "text/plain": [
       "                kmRec  motionTime  maxSpeed.speed  fuelIni\n",
       "kmRec             NaN         NaN             NaN      NaN\n",
       "motionTime        NaN    1.000000        0.283932      NaN\n",
       "maxSpeed.speed    NaN    0.283932        1.000000      NaN\n",
       "fuelIni           NaN         NaN             NaN      1.0"
      ]
     },
     "execution_count": 21,
     "metadata": {},
     "output_type": "execute_result"
    }
   ],
   "source": [
    "df_trips.describe()\n",
    "estudio=df_trips[['kmRec','motionTime', 'maxSpeed.speed','fuelIni']]\n",
    "estudio.corr()\n",
    "#df_trips.corr()"
   ]
  },
  {
   "cell_type": "code",
   "execution_count": 22,
   "metadata": {
    "colab": {
     "base_uri": "https://localhost:8080/"
    },
    "id": "XRd3n4OCX7qJ",
    "outputId": "0ba74c6a-edb1-49c4-8209-be310c63f15d"
   },
   "outputs": [
    {
     "name": "stdout",
     "output_type": "stream",
     "text": [
      "Error cuadrático medio: 305.86371331905514\n",
      "Puntaje de precisión del modelo: 0.03148183716099229\n",
      "Puntaje de precisión del modelo(entrenamiento): 0.08821997673675486\n"
     ]
    }
   ],
   "source": [
    "features = ['can_taho']\n",
    "target = 'can_fls'\n",
    "\n",
    "X = variables_estudio[features]\n",
    "Y = variables_estudio[target]\n",
    "\n",
    "X_entrenamiento, X_test, y_entrenamiento, y_test=train_test_split(X, Y)\n",
    "arbol = DecisionTreeRegressor(max_depth=10)\n",
    "arbol.fit(X_entrenamiento, y_entrenamiento)\n",
    "\n",
    "\n",
    "arbol.score(X_entrenamiento, y_entrenamiento)\n",
    "arbol.score(X_test, y_test)\n",
    "# Evaluar el modelo (por ejemplo, usando el error cuadrático medio)\n",
    "from sklearn.metrics import mean_squared_error\n",
    "y_pred = arbol.predict(X_test)\n",
    "mse = mean_squared_error(y_test, y_pred)\n",
    "print(\"Error cuadrático medio:\", mse)\n",
    "\n",
    "\n",
    "print(f\"Puntaje de precisión del modelo: {arbol.score(X_test, y_test)}\")\n",
    "print(f\"Puntaje de precisión del modelo(entrenamiento): {arbol.score(X_entrenamiento, y_entrenamiento)}\")\n",
    "\n"
   ]
  },
  {
   "cell_type": "markdown",
   "metadata": {
    "id": "mdHxHbl3ZxIS"
   },
   "source": []
  },
  {
   "cell_type": "code",
   "execution_count": 23,
   "metadata": {
    "colab": {
     "base_uri": "https://localhost:8080/",
     "height": 1000
    },
    "id": "Uq2XCPB8jaqW",
    "outputId": "ac2deb7d-9b3f-4102-b62a-b2f948baae3f"
   },
   "outputs": [
    {
     "ename": "ExecutableNotFound",
     "evalue": "failed to execute WindowsPath('dot'), make sure the Graphviz executables are on your systems' PATH",
     "output_type": "error",
     "traceback": [
      "\u001b[1;31m---------------------------------------------------------------------------\u001b[0m",
      "\u001b[1;31mFileNotFoundError\u001b[0m                         Traceback (most recent call last)",
      "File \u001b[1;32m~\\anaconda3\\Lib\\site-packages\\graphviz\\backend\\execute.py:78\u001b[0m, in \u001b[0;36mrun_check\u001b[1;34m(cmd, input_lines, encoding, quiet, **kwargs)\u001b[0m\n\u001b[0;32m     77\u001b[0m     \u001b[38;5;28;01melse\u001b[39;00m:\n\u001b[1;32m---> 78\u001b[0m         proc \u001b[38;5;241m=\u001b[39m subprocess\u001b[38;5;241m.\u001b[39mrun(cmd, \u001b[38;5;241m*\u001b[39m\u001b[38;5;241m*\u001b[39mkwargs)\n\u001b[0;32m     79\u001b[0m \u001b[38;5;28;01mexcept\u001b[39;00m \u001b[38;5;167;01mOSError\u001b[39;00m \u001b[38;5;28;01mas\u001b[39;00m e:\n",
      "File \u001b[1;32m~\\anaconda3\\Lib\\subprocess.py:548\u001b[0m, in \u001b[0;36mrun\u001b[1;34m(input, capture_output, timeout, check, *popenargs, **kwargs)\u001b[0m\n\u001b[0;32m    546\u001b[0m     kwargs[\u001b[38;5;124m'\u001b[39m\u001b[38;5;124mstderr\u001b[39m\u001b[38;5;124m'\u001b[39m] \u001b[38;5;241m=\u001b[39m PIPE\n\u001b[1;32m--> 548\u001b[0m \u001b[38;5;28;01mwith\u001b[39;00m Popen(\u001b[38;5;241m*\u001b[39mpopenargs, \u001b[38;5;241m*\u001b[39m\u001b[38;5;241m*\u001b[39mkwargs) \u001b[38;5;28;01mas\u001b[39;00m process:\n\u001b[0;32m    549\u001b[0m     \u001b[38;5;28;01mtry\u001b[39;00m:\n",
      "File \u001b[1;32m~\\anaconda3\\Lib\\subprocess.py:1026\u001b[0m, in \u001b[0;36mPopen.__init__\u001b[1;34m(self, args, bufsize, executable, stdin, stdout, stderr, preexec_fn, close_fds, shell, cwd, env, universal_newlines, startupinfo, creationflags, restore_signals, start_new_session, pass_fds, user, group, extra_groups, encoding, errors, text, umask, pipesize, process_group)\u001b[0m\n\u001b[0;32m   1023\u001b[0m             \u001b[38;5;28mself\u001b[39m\u001b[38;5;241m.\u001b[39mstderr \u001b[38;5;241m=\u001b[39m io\u001b[38;5;241m.\u001b[39mTextIOWrapper(\u001b[38;5;28mself\u001b[39m\u001b[38;5;241m.\u001b[39mstderr,\n\u001b[0;32m   1024\u001b[0m                     encoding\u001b[38;5;241m=\u001b[39mencoding, errors\u001b[38;5;241m=\u001b[39merrors)\n\u001b[1;32m-> 1026\u001b[0m     \u001b[38;5;28mself\u001b[39m\u001b[38;5;241m.\u001b[39m_execute_child(args, executable, preexec_fn, close_fds,\n\u001b[0;32m   1027\u001b[0m                         pass_fds, cwd, env,\n\u001b[0;32m   1028\u001b[0m                         startupinfo, creationflags, shell,\n\u001b[0;32m   1029\u001b[0m                         p2cread, p2cwrite,\n\u001b[0;32m   1030\u001b[0m                         c2pread, c2pwrite,\n\u001b[0;32m   1031\u001b[0m                         errread, errwrite,\n\u001b[0;32m   1032\u001b[0m                         restore_signals,\n\u001b[0;32m   1033\u001b[0m                         gid, gids, uid, umask,\n\u001b[0;32m   1034\u001b[0m                         start_new_session, process_group)\n\u001b[0;32m   1035\u001b[0m \u001b[38;5;28;01mexcept\u001b[39;00m:\n\u001b[0;32m   1036\u001b[0m     \u001b[38;5;66;03m# Cleanup if the child failed starting.\u001b[39;00m\n",
      "File \u001b[1;32m~\\anaconda3\\Lib\\subprocess.py:1538\u001b[0m, in \u001b[0;36mPopen._execute_child\u001b[1;34m(self, args, executable, preexec_fn, close_fds, pass_fds, cwd, env, startupinfo, creationflags, shell, p2cread, p2cwrite, c2pread, c2pwrite, errread, errwrite, unused_restore_signals, unused_gid, unused_gids, unused_uid, unused_umask, unused_start_new_session, unused_process_group)\u001b[0m\n\u001b[0;32m   1537\u001b[0m \u001b[38;5;28;01mtry\u001b[39;00m:\n\u001b[1;32m-> 1538\u001b[0m     hp, ht, pid, tid \u001b[38;5;241m=\u001b[39m _winapi\u001b[38;5;241m.\u001b[39mCreateProcess(executable, args,\n\u001b[0;32m   1539\u001b[0m                              \u001b[38;5;66;03m# no special security\u001b[39;00m\n\u001b[0;32m   1540\u001b[0m                              \u001b[38;5;28;01mNone\u001b[39;00m, \u001b[38;5;28;01mNone\u001b[39;00m,\n\u001b[0;32m   1541\u001b[0m                              \u001b[38;5;28mint\u001b[39m(\u001b[38;5;129;01mnot\u001b[39;00m close_fds),\n\u001b[0;32m   1542\u001b[0m                              creationflags,\n\u001b[0;32m   1543\u001b[0m                              env,\n\u001b[0;32m   1544\u001b[0m                              cwd,\n\u001b[0;32m   1545\u001b[0m                              startupinfo)\n\u001b[0;32m   1546\u001b[0m \u001b[38;5;28;01mfinally\u001b[39;00m:\n\u001b[0;32m   1547\u001b[0m     \u001b[38;5;66;03m# Child is launched. Close the parent's copy of those pipe\u001b[39;00m\n\u001b[0;32m   1548\u001b[0m     \u001b[38;5;66;03m# handles that only the child should have open.  You need\u001b[39;00m\n\u001b[1;32m   (...)\u001b[0m\n\u001b[0;32m   1551\u001b[0m     \u001b[38;5;66;03m# pipe will not close when the child process exits and the\u001b[39;00m\n\u001b[0;32m   1552\u001b[0m     \u001b[38;5;66;03m# ReadFile will hang.\u001b[39;00m\n",
      "\u001b[1;31mFileNotFoundError\u001b[0m: [WinError 2] The system cannot find the file specified",
      "\nThe above exception was the direct cause of the following exception:\n",
      "\u001b[1;31mExecutableNotFound\u001b[0m                        Traceback (most recent call last)",
      "Cell \u001b[1;32mIn[23], line 12\u001b[0m\n\u001b[0;32m     10\u001b[0m \u001b[38;5;66;03m# Crear el gráfico\u001b[39;00m\n\u001b[0;32m     11\u001b[0m graph \u001b[38;5;241m=\u001b[39m graphviz\u001b[38;5;241m.\u001b[39mSource(dot_data)\n\u001b[1;32m---> 12\u001b[0m graph\u001b[38;5;241m.\u001b[39mrender(\u001b[38;5;124m\"\u001b[39m\u001b[38;5;124marbol_decision\u001b[39m\u001b[38;5;124m\"\u001b[39m)  \u001b[38;5;66;03m# Guardar el gráfico como un archivo PDF\u001b[39;00m\n\u001b[0;32m     13\u001b[0m graph\n",
      "File \u001b[1;32m~\\anaconda3\\Lib\\site-packages\\graphviz\\_tools.py:171\u001b[0m, in \u001b[0;36mdeprecate_positional_args.<locals>.decorator.<locals>.wrapper\u001b[1;34m(*args, **kwargs)\u001b[0m\n\u001b[0;32m    162\u001b[0m     wanted \u001b[38;5;241m=\u001b[39m \u001b[38;5;124m'\u001b[39m\u001b[38;5;124m, \u001b[39m\u001b[38;5;124m'\u001b[39m\u001b[38;5;241m.\u001b[39mjoin(\u001b[38;5;124mf\u001b[39m\u001b[38;5;124m'\u001b[39m\u001b[38;5;132;01m{\u001b[39;00mname\u001b[38;5;132;01m}\u001b[39;00m\u001b[38;5;124m=\u001b[39m\u001b[38;5;132;01m{\u001b[39;00mvalue\u001b[38;5;132;01m!r}\u001b[39;00m\u001b[38;5;124m'\u001b[39m\n\u001b[0;32m    163\u001b[0m                        \u001b[38;5;28;01mfor\u001b[39;00m name, value \u001b[38;5;129;01min\u001b[39;00m deprecated\u001b[38;5;241m.\u001b[39mitems())\n\u001b[0;32m    164\u001b[0m     warnings\u001b[38;5;241m.\u001b[39mwarn(\u001b[38;5;124mf\u001b[39m\u001b[38;5;124m'\u001b[39m\u001b[38;5;124mThe signature of \u001b[39m\u001b[38;5;132;01m{\u001b[39;00mfunc\u001b[38;5;241m.\u001b[39m\u001b[38;5;18m__name__\u001b[39m\u001b[38;5;132;01m}\u001b[39;00m\u001b[38;5;124m will be reduced\u001b[39m\u001b[38;5;124m'\u001b[39m\n\u001b[0;32m    165\u001b[0m                   \u001b[38;5;124mf\u001b[39m\u001b[38;5;124m'\u001b[39m\u001b[38;5;124m to \u001b[39m\u001b[38;5;132;01m{\u001b[39;00msupported_number\u001b[38;5;132;01m}\u001b[39;00m\u001b[38;5;124m positional args\u001b[39m\u001b[38;5;124m'\u001b[39m\n\u001b[0;32m    166\u001b[0m                   \u001b[38;5;124mf\u001b[39m\u001b[38;5;124m'\u001b[39m\u001b[38;5;124m \u001b[39m\u001b[38;5;132;01m{\u001b[39;00m\u001b[38;5;28mlist\u001b[39m(supported)\u001b[38;5;132;01m}\u001b[39;00m\u001b[38;5;124m: pass \u001b[39m\u001b[38;5;132;01m{\u001b[39;00mwanted\u001b[38;5;132;01m}\u001b[39;00m\u001b[38;5;124m'\u001b[39m\n\u001b[0;32m    167\u001b[0m                   \u001b[38;5;124m'\u001b[39m\u001b[38;5;124m as keyword arg(s)\u001b[39m\u001b[38;5;124m'\u001b[39m,\n\u001b[0;32m    168\u001b[0m                   stacklevel\u001b[38;5;241m=\u001b[39mstacklevel,\n\u001b[0;32m    169\u001b[0m                   category\u001b[38;5;241m=\u001b[39mcategory)\n\u001b[1;32m--> 171\u001b[0m \u001b[38;5;28;01mreturn\u001b[39;00m func(\u001b[38;5;241m*\u001b[39margs, \u001b[38;5;241m*\u001b[39m\u001b[38;5;241m*\u001b[39mkwargs)\n",
      "File \u001b[1;32m~\\anaconda3\\Lib\\site-packages\\graphviz\\rendering.py:122\u001b[0m, in \u001b[0;36mRender.render\u001b[1;34m(self, filename, directory, view, cleanup, format, renderer, formatter, neato_no_op, quiet, quiet_view, outfile, engine, raise_if_result_exists, overwrite_source)\u001b[0m\n\u001b[0;32m    118\u001b[0m filepath \u001b[38;5;241m=\u001b[39m \u001b[38;5;28mself\u001b[39m\u001b[38;5;241m.\u001b[39msave(filename, directory\u001b[38;5;241m=\u001b[39mdirectory, skip_existing\u001b[38;5;241m=\u001b[39m\u001b[38;5;28;01mNone\u001b[39;00m)\n\u001b[0;32m    120\u001b[0m args\u001b[38;5;241m.\u001b[39mappend(filepath)\n\u001b[1;32m--> 122\u001b[0m rendered \u001b[38;5;241m=\u001b[39m \u001b[38;5;28mself\u001b[39m\u001b[38;5;241m.\u001b[39m_render(\u001b[38;5;241m*\u001b[39margs, \u001b[38;5;241m*\u001b[39m\u001b[38;5;241m*\u001b[39mkwargs)\n\u001b[0;32m    124\u001b[0m \u001b[38;5;28;01mif\u001b[39;00m cleanup:\n\u001b[0;32m    125\u001b[0m     log\u001b[38;5;241m.\u001b[39mdebug(\u001b[38;5;124m'\u001b[39m\u001b[38;5;124mdelete \u001b[39m\u001b[38;5;132;01m%r\u001b[39;00m\u001b[38;5;124m'\u001b[39m, filepath)\n",
      "File \u001b[1;32m~\\anaconda3\\Lib\\site-packages\\graphviz\\_tools.py:171\u001b[0m, in \u001b[0;36mdeprecate_positional_args.<locals>.decorator.<locals>.wrapper\u001b[1;34m(*args, **kwargs)\u001b[0m\n\u001b[0;32m    162\u001b[0m     wanted \u001b[38;5;241m=\u001b[39m \u001b[38;5;124m'\u001b[39m\u001b[38;5;124m, \u001b[39m\u001b[38;5;124m'\u001b[39m\u001b[38;5;241m.\u001b[39mjoin(\u001b[38;5;124mf\u001b[39m\u001b[38;5;124m'\u001b[39m\u001b[38;5;132;01m{\u001b[39;00mname\u001b[38;5;132;01m}\u001b[39;00m\u001b[38;5;124m=\u001b[39m\u001b[38;5;132;01m{\u001b[39;00mvalue\u001b[38;5;132;01m!r}\u001b[39;00m\u001b[38;5;124m'\u001b[39m\n\u001b[0;32m    163\u001b[0m                        \u001b[38;5;28;01mfor\u001b[39;00m name, value \u001b[38;5;129;01min\u001b[39;00m deprecated\u001b[38;5;241m.\u001b[39mitems())\n\u001b[0;32m    164\u001b[0m     warnings\u001b[38;5;241m.\u001b[39mwarn(\u001b[38;5;124mf\u001b[39m\u001b[38;5;124m'\u001b[39m\u001b[38;5;124mThe signature of \u001b[39m\u001b[38;5;132;01m{\u001b[39;00mfunc\u001b[38;5;241m.\u001b[39m\u001b[38;5;18m__name__\u001b[39m\u001b[38;5;132;01m}\u001b[39;00m\u001b[38;5;124m will be reduced\u001b[39m\u001b[38;5;124m'\u001b[39m\n\u001b[0;32m    165\u001b[0m                   \u001b[38;5;124mf\u001b[39m\u001b[38;5;124m'\u001b[39m\u001b[38;5;124m to \u001b[39m\u001b[38;5;132;01m{\u001b[39;00msupported_number\u001b[38;5;132;01m}\u001b[39;00m\u001b[38;5;124m positional args\u001b[39m\u001b[38;5;124m'\u001b[39m\n\u001b[0;32m    166\u001b[0m                   \u001b[38;5;124mf\u001b[39m\u001b[38;5;124m'\u001b[39m\u001b[38;5;124m \u001b[39m\u001b[38;5;132;01m{\u001b[39;00m\u001b[38;5;28mlist\u001b[39m(supported)\u001b[38;5;132;01m}\u001b[39;00m\u001b[38;5;124m: pass \u001b[39m\u001b[38;5;132;01m{\u001b[39;00mwanted\u001b[38;5;132;01m}\u001b[39;00m\u001b[38;5;124m'\u001b[39m\n\u001b[0;32m    167\u001b[0m                   \u001b[38;5;124m'\u001b[39m\u001b[38;5;124m as keyword arg(s)\u001b[39m\u001b[38;5;124m'\u001b[39m,\n\u001b[0;32m    168\u001b[0m                   stacklevel\u001b[38;5;241m=\u001b[39mstacklevel,\n\u001b[0;32m    169\u001b[0m                   category\u001b[38;5;241m=\u001b[39mcategory)\n\u001b[1;32m--> 171\u001b[0m \u001b[38;5;28;01mreturn\u001b[39;00m func(\u001b[38;5;241m*\u001b[39margs, \u001b[38;5;241m*\u001b[39m\u001b[38;5;241m*\u001b[39mkwargs)\n",
      "File \u001b[1;32m~\\anaconda3\\Lib\\site-packages\\graphviz\\backend\\rendering.py:326\u001b[0m, in \u001b[0;36mrender\u001b[1;34m(engine, format, filepath, renderer, formatter, neato_no_op, quiet, outfile, raise_if_result_exists, overwrite_filepath)\u001b[0m\n\u001b[0;32m    322\u001b[0m cmd \u001b[38;5;241m+\u001b[39m\u001b[38;5;241m=\u001b[39m args\n\u001b[0;32m    324\u001b[0m \u001b[38;5;28;01massert\u001b[39;00m filepath \u001b[38;5;129;01mis\u001b[39;00m \u001b[38;5;129;01mnot\u001b[39;00m \u001b[38;5;28;01mNone\u001b[39;00m, \u001b[38;5;124m'\u001b[39m\u001b[38;5;124mwork around pytype false alarm\u001b[39m\u001b[38;5;124m'\u001b[39m\n\u001b[1;32m--> 326\u001b[0m execute\u001b[38;5;241m.\u001b[39mrun_check(cmd,\n\u001b[0;32m    327\u001b[0m                   cwd\u001b[38;5;241m=\u001b[39mfilepath\u001b[38;5;241m.\u001b[39mparent \u001b[38;5;28;01mif\u001b[39;00m filepath\u001b[38;5;241m.\u001b[39mparent\u001b[38;5;241m.\u001b[39mparts \u001b[38;5;28;01melse\u001b[39;00m \u001b[38;5;28;01mNone\u001b[39;00m,\n\u001b[0;32m    328\u001b[0m                   quiet\u001b[38;5;241m=\u001b[39mquiet,\n\u001b[0;32m    329\u001b[0m                   capture_output\u001b[38;5;241m=\u001b[39m\u001b[38;5;28;01mTrue\u001b[39;00m)\n\u001b[0;32m    331\u001b[0m \u001b[38;5;28;01mreturn\u001b[39;00m os\u001b[38;5;241m.\u001b[39mfspath(outfile)\n",
      "File \u001b[1;32m~\\anaconda3\\Lib\\site-packages\\graphviz\\backend\\execute.py:81\u001b[0m, in \u001b[0;36mrun_check\u001b[1;34m(cmd, input_lines, encoding, quiet, **kwargs)\u001b[0m\n\u001b[0;32m     79\u001b[0m \u001b[38;5;28;01mexcept\u001b[39;00m \u001b[38;5;167;01mOSError\u001b[39;00m \u001b[38;5;28;01mas\u001b[39;00m e:\n\u001b[0;32m     80\u001b[0m     \u001b[38;5;28;01mif\u001b[39;00m e\u001b[38;5;241m.\u001b[39merrno \u001b[38;5;241m==\u001b[39m errno\u001b[38;5;241m.\u001b[39mENOENT:\n\u001b[1;32m---> 81\u001b[0m         \u001b[38;5;28;01mraise\u001b[39;00m ExecutableNotFound(cmd) \u001b[38;5;28;01mfrom\u001b[39;00m \u001b[38;5;21;01me\u001b[39;00m\n\u001b[0;32m     82\u001b[0m     \u001b[38;5;28;01mraise\u001b[39;00m\n\u001b[0;32m     84\u001b[0m \u001b[38;5;28;01mif\u001b[39;00m \u001b[38;5;129;01mnot\u001b[39;00m quiet \u001b[38;5;129;01mand\u001b[39;00m proc\u001b[38;5;241m.\u001b[39mstderr:\n",
      "\u001b[1;31mExecutableNotFound\u001b[0m: failed to execute WindowsPath('dot'), make sure the Graphviz executables are on your systems' PATH"
     ]
    }
   ],
   "source": [
    "from sklearn.tree import export_graphviz\n",
    "from sklearn import tree\n",
    "import graphviz\n",
    "dot_data = tree.export_graphviz(arbol, out_file=None,\n",
    "                                feature_names=features,\n",
    "                                class_names=['engOn_False', 'engOn_True'],\n",
    "                                filled=True, rounded=True,\n",
    "                                special_characters=True)\n",
    "\n",
    "# Crear el gráfico\n",
    "graph = graphviz.Source(dot_data)\n",
    "graph.render(\"arbol_decision\")  # Guardar el gráfico como un archivo PDF\n",
    "graph"
   ]
  },
  {
   "cell_type": "code",
   "execution_count": 16,
   "metadata": {
    "id": "8uFn5WqWu5qh"
   },
   "outputs": [],
   "source": []
  },
  {
   "cell_type": "markdown",
   "metadata": {
    "id": "2L-tICzLu6H3"
   },
   "source": [
    "# Conclusiones generales\n",
    "Basándonos en estos resultados, podemos inferir lo siguiente:\n",
    "Este modelo no es el mejor, ya que el Puntaje de precisión del modelo es muy bajo.\n",
    "Puntaje de precisión del modelo(entrenamiento) muy bajo. con la profundidad (depth=10). El modificarlo solo hace que estos numeros sean aun mas bajos"
   ]
  }
 ],
 "metadata": {
  "colab": {
   "provenance": []
  },
  "kernelspec": {
   "display_name": "Python 3 (ipykernel)",
   "language": "python",
   "name": "python3"
  },
  "language_info": {
   "codemirror_mode": {
    "name": "ipython",
    "version": 3
   },
   "file_extension": ".py",
   "mimetype": "text/x-python",
   "name": "python",
   "nbconvert_exporter": "python",
   "pygments_lexer": "ipython3",
   "version": "3.11.7"
  }
 },
 "nbformat": 4,
 "nbformat_minor": 1
}
